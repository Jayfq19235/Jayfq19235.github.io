{
  "nbformat": 4,
  "nbformat_minor": 0,
  "metadata": {
    "colab": {
      "name": "CrimeScraper.ipynb",
      "provenance": []
    },
    "kernelspec": {
      "name": "python3",
      "display_name": "Python 3"
    },
    "language_info": {
      "name": "python"
    }
  },
  "cells": [
    {
      "cell_type": "code",
      "execution_count": 1,
      "metadata": {
        "id": "KEemG6I3jh7W"
      },
      "outputs": [],
      "source": [
        "import pandas as pd"
      ]
    },
    {
      "cell_type": "code",
      "source": [
        "import numpy as np"
      ],
      "metadata": {
        "id": "pNxRBNsoji4u"
      },
      "execution_count": 2,
      "outputs": []
    },
    {
      "cell_type": "code",
      "source": [
        "import requests"
      ],
      "metadata": {
        "id": "Ainxi-zfjj6g"
      },
      "execution_count": 3,
      "outputs": []
    },
    {
      "cell_type": "code",
      "source": [
        "url = \"https://www.ukcrimestats.com/National_Picture/\""
      ],
      "metadata": {
        "id": "76CiWPZjjwpo"
      },
      "execution_count": 4,
      "outputs": []
    },
    {
      "cell_type": "code",
      "source": [
        "html=requests.get(url)"
      ],
      "metadata": {
        "id": "-zl17OGVjzL0"
      },
      "execution_count": 5,
      "outputs": []
    },
    {
      "cell_type": "code",
      "source": [
        "html"
      ],
      "metadata": {
        "colab": {
          "base_uri": "https://localhost:8080/"
        },
        "id": "Ine_5-05j2HE",
        "outputId": "44ed561f-d576-40f1-89d0-48814e7834eb"
      },
      "execution_count": 6,
      "outputs": [
        {
          "output_type": "execute_result",
          "data": {
            "text/plain": [
              "<Response [200]>"
            ]
          },
          "metadata": {},
          "execution_count": 6
        }
      ]
    },
    {
      "cell_type": "code",
      "source": [
        "dfs = pd.read_html(url)"
      ],
      "metadata": {
        "id": "lLb3VNAxj4bL"
      },
      "execution_count": 7,
      "outputs": []
    },
    {
      "cell_type": "code",
      "source": [
        "dfs[0]"
      ],
      "metadata": {
        "colab": {
          "base_uri": "https://localhost:8080/",
          "height": 502
        },
        "id": "lbTZwD0Bj9Pt",
        "outputId": "52c5e66a-3c6c-4c5a-f072-ca7f81bb4155"
      },
      "execution_count": 10,
      "outputs": [
        {
          "output_type": "execute_result",
          "data": {
            "text/html": [
              "\n",
              "  <div id=\"df-caa85038-24ab-496b-a4fe-4668df06075e\">\n",
              "    <div class=\"colab-df-container\">\n",
              "      <div>\n",
              "<style scoped>\n",
              "    .dataframe tbody tr th:only-of-type {\n",
              "        vertical-align: middle;\n",
              "    }\n",
              "\n",
              "    .dataframe tbody tr th {\n",
              "        vertical-align: top;\n",
              "    }\n",
              "\n",
              "    .dataframe thead th {\n",
              "        text-align: right;\n",
              "    }\n",
              "</style>\n",
              "<table border=\"1\" class=\"dataframe\">\n",
              "  <thead>\n",
              "    <tr style=\"text-align: right;\">\n",
              "      <th></th>\n",
              "      <th>Unnamed: 0</th>\n",
              "      <th>ASB</th>\n",
              "      <th>Burglary</th>\n",
              "      <th>Robbery</th>\n",
              "      <th>Vehicle</th>\n",
              "      <th>Violent</th>\n",
              "      <th>Shoplifting</th>\n",
              "      <th>CD&amp;A</th>\n",
              "      <th>Other Theft</th>\n",
              "      <th>Drugs</th>\n",
              "      <th>Bike Theft</th>\n",
              "      <th>Theft From the Person</th>\n",
              "      <th>Weapons</th>\n",
              "      <th>Public Order</th>\n",
              "      <th>Other</th>\n",
              "      <th>Total</th>\n",
              "    </tr>\n",
              "  </thead>\n",
              "  <tbody>\n",
              "    <tr>\n",
              "      <th>0</th>\n",
              "      <td>Nov 2021</td>\n",
              "      <td>71803</td>\n",
              "      <td>20002</td>\n",
              "      <td>4471</td>\n",
              "      <td>27770</td>\n",
              "      <td>158027</td>\n",
              "      <td>20491</td>\n",
              "      <td>38474</td>\n",
              "      <td>33324</td>\n",
              "      <td>12000</td>\n",
              "      <td>5474</td>\n",
              "      <td>7238</td>\n",
              "      <td>3107</td>\n",
              "      <td>37508</td>\n",
              "      <td>7712</td>\n",
              "      <td>447401</td>\n",
              "    </tr>\n",
              "    <tr>\n",
              "      <th>1</th>\n",
              "      <td>Oct 2021</td>\n",
              "      <td>82595</td>\n",
              "      <td>20317</td>\n",
              "      <td>4774</td>\n",
              "      <td>27691</td>\n",
              "      <td>168955</td>\n",
              "      <td>21565</td>\n",
              "      <td>40037</td>\n",
              "      <td>33061</td>\n",
              "      <td>13362</td>\n",
              "      <td>6684</td>\n",
              "      <td>7481</td>\n",
              "      <td>3365</td>\n",
              "      <td>43254</td>\n",
              "      <td>8165</td>\n",
              "      <td>481306</td>\n",
              "    </tr>\n",
              "    <tr>\n",
              "      <th>2</th>\n",
              "      <td>Sep 2021</td>\n",
              "      <td>89211</td>\n",
              "      <td>18396</td>\n",
              "      <td>4680</td>\n",
              "      <td>25350</td>\n",
              "      <td>164576</td>\n",
              "      <td>20005</td>\n",
              "      <td>37426</td>\n",
              "      <td>31887</td>\n",
              "      <td>11739</td>\n",
              "      <td>6672</td>\n",
              "      <td>6036</td>\n",
              "      <td>3139</td>\n",
              "      <td>45502</td>\n",
              "      <td>7855</td>\n",
              "      <td>472474</td>\n",
              "    </tr>\n",
              "    <tr>\n",
              "      <th>3</th>\n",
              "      <td>Aug 2021</td>\n",
              "      <td>101639</td>\n",
              "      <td>17975</td>\n",
              "      <td>4324</td>\n",
              "      <td>25176</td>\n",
              "      <td>158817</td>\n",
              "      <td>20201</td>\n",
              "      <td>38352</td>\n",
              "      <td>31714</td>\n",
              "      <td>12410</td>\n",
              "      <td>6306</td>\n",
              "      <td>5842</td>\n",
              "      <td>3182</td>\n",
              "      <td>43526</td>\n",
              "      <td>7213</td>\n",
              "      <td>476677</td>\n",
              "    </tr>\n",
              "    <tr>\n",
              "      <th>4</th>\n",
              "      <td>Jul 2021</td>\n",
              "      <td>114525</td>\n",
              "      <td>17274</td>\n",
              "      <td>4214</td>\n",
              "      <td>22804</td>\n",
              "      <td>173165</td>\n",
              "      <td>19425</td>\n",
              "      <td>38718</td>\n",
              "      <td>31857</td>\n",
              "      <td>12516</td>\n",
              "      <td>6298</td>\n",
              "      <td>5500</td>\n",
              "      <td>3164</td>\n",
              "      <td>49713</td>\n",
              "      <td>8133</td>\n",
              "      <td>507306</td>\n",
              "    </tr>\n",
              "    <tr>\n",
              "      <th>...</th>\n",
              "      <td>...</td>\n",
              "      <td>...</td>\n",
              "      <td>...</td>\n",
              "      <td>...</td>\n",
              "      <td>...</td>\n",
              "      <td>...</td>\n",
              "      <td>...</td>\n",
              "      <td>...</td>\n",
              "      <td>...</td>\n",
              "      <td>...</td>\n",
              "      <td>...</td>\n",
              "      <td>...</td>\n",
              "      <td>...</td>\n",
              "      <td>...</td>\n",
              "      <td>...</td>\n",
              "      <td>...</td>\n",
              "    </tr>\n",
              "    <tr>\n",
              "      <th>127</th>\n",
              "      <td>Apr 2011</td>\n",
              "      <td>277816</td>\n",
              "      <td>40436</td>\n",
              "      <td>6289</td>\n",
              "      <td>33780</td>\n",
              "      <td>64789</td>\n",
              "      <td>187879</td>\n",
              "      <td>187879</td>\n",
              "      <td>187879</td>\n",
              "      <td>187879</td>\n",
              "      <td>187879</td>\n",
              "      <td>187879</td>\n",
              "      <td>187879</td>\n",
              "      <td>187879</td>\n",
              "      <td>187879</td>\n",
              "      <td>610989</td>\n",
              "    </tr>\n",
              "    <tr>\n",
              "      <th>128</th>\n",
              "      <td>Mar 2011</td>\n",
              "      <td>244125</td>\n",
              "      <td>44322</td>\n",
              "      <td>8731</td>\n",
              "      <td>35229</td>\n",
              "      <td>63046</td>\n",
              "      <td>229915</td>\n",
              "      <td>229915</td>\n",
              "      <td>229915</td>\n",
              "      <td>229915</td>\n",
              "      <td>229915</td>\n",
              "      <td>229915</td>\n",
              "      <td>229915</td>\n",
              "      <td>229915</td>\n",
              "      <td>229915</td>\n",
              "      <td>625368</td>\n",
              "    </tr>\n",
              "    <tr>\n",
              "      <th>129</th>\n",
              "      <td>Feb 2011</td>\n",
              "      <td>209941</td>\n",
              "      <td>42346</td>\n",
              "      <td>6465</td>\n",
              "      <td>35092</td>\n",
              "      <td>56107</td>\n",
              "      <td>206419</td>\n",
              "      <td>206419</td>\n",
              "      <td>206419</td>\n",
              "      <td>206419</td>\n",
              "      <td>206419</td>\n",
              "      <td>206419</td>\n",
              "      <td>206419</td>\n",
              "      <td>206419</td>\n",
              "      <td>206419</td>\n",
              "      <td>556370</td>\n",
              "    </tr>\n",
              "    <tr>\n",
              "      <th>130</th>\n",
              "      <td>Jan 2011</td>\n",
              "      <td>204819</td>\n",
              "      <td>45228</td>\n",
              "      <td>6659</td>\n",
              "      <td>39591</td>\n",
              "      <td>59740</td>\n",
              "      <td>205228</td>\n",
              "      <td>205228</td>\n",
              "      <td>205228</td>\n",
              "      <td>205228</td>\n",
              "      <td>205228</td>\n",
              "      <td>205228</td>\n",
              "      <td>205228</td>\n",
              "      <td>205228</td>\n",
              "      <td>205228</td>\n",
              "      <td>561265</td>\n",
              "    </tr>\n",
              "    <tr>\n",
              "      <th>131</th>\n",
              "      <td>Dec 2010</td>\n",
              "      <td>207139</td>\n",
              "      <td>38226</td>\n",
              "      <td>5760</td>\n",
              "      <td>31924</td>\n",
              "      <td>57194</td>\n",
              "      <td>151487</td>\n",
              "      <td>151487</td>\n",
              "      <td>151487</td>\n",
              "      <td>151487</td>\n",
              "      <td>151487</td>\n",
              "      <td>151487</td>\n",
              "      <td>151487</td>\n",
              "      <td>151487</td>\n",
              "      <td>151487</td>\n",
              "      <td>491730</td>\n",
              "    </tr>\n",
              "  </tbody>\n",
              "</table>\n",
              "<p>132 rows × 16 columns</p>\n",
              "</div>\n",
              "      <button class=\"colab-df-convert\" onclick=\"convertToInteractive('df-caa85038-24ab-496b-a4fe-4668df06075e')\"\n",
              "              title=\"Convert this dataframe to an interactive table.\"\n",
              "              style=\"display:none;\">\n",
              "        \n",
              "  <svg xmlns=\"http://www.w3.org/2000/svg\" height=\"24px\"viewBox=\"0 0 24 24\"\n",
              "       width=\"24px\">\n",
              "    <path d=\"M0 0h24v24H0V0z\" fill=\"none\"/>\n",
              "    <path d=\"M18.56 5.44l.94 2.06.94-2.06 2.06-.94-2.06-.94-.94-2.06-.94 2.06-2.06.94zm-11 1L8.5 8.5l.94-2.06 2.06-.94-2.06-.94L8.5 2.5l-.94 2.06-2.06.94zm10 10l.94 2.06.94-2.06 2.06-.94-2.06-.94-.94-2.06-.94 2.06-2.06.94z\"/><path d=\"M17.41 7.96l-1.37-1.37c-.4-.4-.92-.59-1.43-.59-.52 0-1.04.2-1.43.59L10.3 9.45l-7.72 7.72c-.78.78-.78 2.05 0 2.83L4 21.41c.39.39.9.59 1.41.59.51 0 1.02-.2 1.41-.59l7.78-7.78 2.81-2.81c.8-.78.8-2.07 0-2.86zM5.41 20L4 18.59l7.72-7.72 1.47 1.35L5.41 20z\"/>\n",
              "  </svg>\n",
              "      </button>\n",
              "      \n",
              "  <style>\n",
              "    .colab-df-container {\n",
              "      display:flex;\n",
              "      flex-wrap:wrap;\n",
              "      gap: 12px;\n",
              "    }\n",
              "\n",
              "    .colab-df-convert {\n",
              "      background-color: #E8F0FE;\n",
              "      border: none;\n",
              "      border-radius: 50%;\n",
              "      cursor: pointer;\n",
              "      display: none;\n",
              "      fill: #1967D2;\n",
              "      height: 32px;\n",
              "      padding: 0 0 0 0;\n",
              "      width: 32px;\n",
              "    }\n",
              "\n",
              "    .colab-df-convert:hover {\n",
              "      background-color: #E2EBFA;\n",
              "      box-shadow: 0px 1px 2px rgba(60, 64, 67, 0.3), 0px 1px 3px 1px rgba(60, 64, 67, 0.15);\n",
              "      fill: #174EA6;\n",
              "    }\n",
              "\n",
              "    [theme=dark] .colab-df-convert {\n",
              "      background-color: #3B4455;\n",
              "      fill: #D2E3FC;\n",
              "    }\n",
              "\n",
              "    [theme=dark] .colab-df-convert:hover {\n",
              "      background-color: #434B5C;\n",
              "      box-shadow: 0px 1px 3px 1px rgba(0, 0, 0, 0.15);\n",
              "      filter: drop-shadow(0px 1px 2px rgba(0, 0, 0, 0.3));\n",
              "      fill: #FFFFFF;\n",
              "    }\n",
              "  </style>\n",
              "\n",
              "      <script>\n",
              "        const buttonEl =\n",
              "          document.querySelector('#df-caa85038-24ab-496b-a4fe-4668df06075e button.colab-df-convert');\n",
              "        buttonEl.style.display =\n",
              "          google.colab.kernel.accessAllowed ? 'block' : 'none';\n",
              "\n",
              "        async function convertToInteractive(key) {\n",
              "          const element = document.querySelector('#df-caa85038-24ab-496b-a4fe-4668df06075e');\n",
              "          const dataTable =\n",
              "            await google.colab.kernel.invokeFunction('convertToInteractive',\n",
              "                                                     [key], {});\n",
              "          if (!dataTable) return;\n",
              "\n",
              "          const docLinkHtml = 'Like what you see? Visit the ' +\n",
              "            '<a target=\"_blank\" href=https://colab.research.google.com/notebooks/data_table.ipynb>data table notebook</a>'\n",
              "            + ' to learn more about interactive tables.';\n",
              "          element.innerHTML = '';\n",
              "          dataTable['output_type'] = 'display_data';\n",
              "          await google.colab.output.renderOutput(dataTable, element);\n",
              "          const docLink = document.createElement('div');\n",
              "          docLink.innerHTML = docLinkHtml;\n",
              "          element.appendChild(docLink);\n",
              "        }\n",
              "      </script>\n",
              "    </div>\n",
              "  </div>\n",
              "  "
            ],
            "text/plain": [
              "    Unnamed: 0     ASB  Burglary  ...  Public Order   Other   Total\n",
              "0     Nov 2021   71803     20002  ...         37508    7712  447401\n",
              "1     Oct 2021   82595     20317  ...         43254    8165  481306\n",
              "2     Sep 2021   89211     18396  ...         45502    7855  472474\n",
              "3     Aug 2021  101639     17975  ...         43526    7213  476677\n",
              "4     Jul 2021  114525     17274  ...         49713    8133  507306\n",
              "..         ...     ...       ...  ...           ...     ...     ...\n",
              "127   Apr 2011  277816     40436  ...        187879  187879  610989\n",
              "128   Mar 2011  244125     44322  ...        229915  229915  625368\n",
              "129   Feb 2011  209941     42346  ...        206419  206419  556370\n",
              "130   Jan 2011  204819     45228  ...        205228  205228  561265\n",
              "131   Dec 2010  207139     38226  ...        151487  151487  491730\n",
              "\n",
              "[132 rows x 16 columns]"
            ]
          },
          "metadata": {},
          "execution_count": 10
        }
      ]
    },
    {
      "cell_type": "code",
      "source": [
        "crime=dfs[0]"
      ],
      "metadata": {
        "id": "R_TbNiifj-co"
      },
      "execution_count": 46,
      "outputs": []
    },
    {
      "cell_type": "code",
      "source": [
        "crime=crime.drop(crime.columns[[1,2,3,4,5,6,7,8,9,10,11,12,13,14]], axis=1)"
      ],
      "metadata": {
        "id": "g7x_K5MAlsAk"
      },
      "execution_count": 47,
      "outputs": []
    },
    {
      "cell_type": "code",
      "source": [
        "crime.columns=[\"date\",\"total\"]"
      ],
      "metadata": {
        "id": "jZq1cQKJm-iS"
      },
      "execution_count": 49,
      "outputs": []
    },
    {
      "cell_type": "code",
      "source": [
        "crime[\"date\"]"
      ],
      "metadata": {
        "colab": {
          "base_uri": "https://localhost:8080/"
        },
        "id": "JmvRB5CJotIV",
        "outputId": "b6690981-7c89-4ea9-8768-b8c619518fa8"
      },
      "execution_count": 53,
      "outputs": [
        {
          "output_type": "execute_result",
          "data": {
            "text/plain": [
              "0      Nov 2021\n",
              "1      Oct 2021\n",
              "2      Sep 2021\n",
              "3      Aug 2021\n",
              "4      Jul 2021\n",
              "         ...   \n",
              "127    Apr 2011\n",
              "128    Mar 2011\n",
              "129    Feb 2011\n",
              "130    Jan 2011\n",
              "131    Dec 2010\n",
              "Name: date, Length: 132, dtype: object"
            ]
          },
          "metadata": {},
          "execution_count": 53
        }
      ]
    },
    {
      "cell_type": "code",
      "source": [
        "crime[\"date\"]=pd.to_datetime(crime[\"date\"])"
      ],
      "metadata": {
        "id": "ADs2q-nZo7hL"
      },
      "execution_count": 54,
      "outputs": []
    },
    {
      "cell_type": "code",
      "source": [
        "crime"
      ],
      "metadata": {
        "colab": {
          "base_uri": "https://localhost:8080/",
          "height": 423
        },
        "id": "8Qj-KrVpq58-",
        "outputId": "ed4e6886-23ae-4f86-fc5a-1d8810989c21"
      },
      "execution_count": 55,
      "outputs": [
        {
          "output_type": "execute_result",
          "data": {
            "text/html": [
              "\n",
              "  <div id=\"df-e26b6c19-aeaf-47e5-8b4e-2ab37385479b\">\n",
              "    <div class=\"colab-df-container\">\n",
              "      <div>\n",
              "<style scoped>\n",
              "    .dataframe tbody tr th:only-of-type {\n",
              "        vertical-align: middle;\n",
              "    }\n",
              "\n",
              "    .dataframe tbody tr th {\n",
              "        vertical-align: top;\n",
              "    }\n",
              "\n",
              "    .dataframe thead th {\n",
              "        text-align: right;\n",
              "    }\n",
              "</style>\n",
              "<table border=\"1\" class=\"dataframe\">\n",
              "  <thead>\n",
              "    <tr style=\"text-align: right;\">\n",
              "      <th></th>\n",
              "      <th>date</th>\n",
              "      <th>total</th>\n",
              "    </tr>\n",
              "  </thead>\n",
              "  <tbody>\n",
              "    <tr>\n",
              "      <th>0</th>\n",
              "      <td>2021-11-01</td>\n",
              "      <td>447401</td>\n",
              "    </tr>\n",
              "    <tr>\n",
              "      <th>1</th>\n",
              "      <td>2021-10-01</td>\n",
              "      <td>481306</td>\n",
              "    </tr>\n",
              "    <tr>\n",
              "      <th>2</th>\n",
              "      <td>2021-09-01</td>\n",
              "      <td>472474</td>\n",
              "    </tr>\n",
              "    <tr>\n",
              "      <th>3</th>\n",
              "      <td>2021-08-01</td>\n",
              "      <td>476677</td>\n",
              "    </tr>\n",
              "    <tr>\n",
              "      <th>4</th>\n",
              "      <td>2021-07-01</td>\n",
              "      <td>507306</td>\n",
              "    </tr>\n",
              "    <tr>\n",
              "      <th>...</th>\n",
              "      <td>...</td>\n",
              "      <td>...</td>\n",
              "    </tr>\n",
              "    <tr>\n",
              "      <th>127</th>\n",
              "      <td>2011-04-01</td>\n",
              "      <td>610989</td>\n",
              "    </tr>\n",
              "    <tr>\n",
              "      <th>128</th>\n",
              "      <td>2011-03-01</td>\n",
              "      <td>625368</td>\n",
              "    </tr>\n",
              "    <tr>\n",
              "      <th>129</th>\n",
              "      <td>2011-02-01</td>\n",
              "      <td>556370</td>\n",
              "    </tr>\n",
              "    <tr>\n",
              "      <th>130</th>\n",
              "      <td>2011-01-01</td>\n",
              "      <td>561265</td>\n",
              "    </tr>\n",
              "    <tr>\n",
              "      <th>131</th>\n",
              "      <td>2010-12-01</td>\n",
              "      <td>491730</td>\n",
              "    </tr>\n",
              "  </tbody>\n",
              "</table>\n",
              "<p>132 rows × 2 columns</p>\n",
              "</div>\n",
              "      <button class=\"colab-df-convert\" onclick=\"convertToInteractive('df-e26b6c19-aeaf-47e5-8b4e-2ab37385479b')\"\n",
              "              title=\"Convert this dataframe to an interactive table.\"\n",
              "              style=\"display:none;\">\n",
              "        \n",
              "  <svg xmlns=\"http://www.w3.org/2000/svg\" height=\"24px\"viewBox=\"0 0 24 24\"\n",
              "       width=\"24px\">\n",
              "    <path d=\"M0 0h24v24H0V0z\" fill=\"none\"/>\n",
              "    <path d=\"M18.56 5.44l.94 2.06.94-2.06 2.06-.94-2.06-.94-.94-2.06-.94 2.06-2.06.94zm-11 1L8.5 8.5l.94-2.06 2.06-.94-2.06-.94L8.5 2.5l-.94 2.06-2.06.94zm10 10l.94 2.06.94-2.06 2.06-.94-2.06-.94-.94-2.06-.94 2.06-2.06.94z\"/><path d=\"M17.41 7.96l-1.37-1.37c-.4-.4-.92-.59-1.43-.59-.52 0-1.04.2-1.43.59L10.3 9.45l-7.72 7.72c-.78.78-.78 2.05 0 2.83L4 21.41c.39.39.9.59 1.41.59.51 0 1.02-.2 1.41-.59l7.78-7.78 2.81-2.81c.8-.78.8-2.07 0-2.86zM5.41 20L4 18.59l7.72-7.72 1.47 1.35L5.41 20z\"/>\n",
              "  </svg>\n",
              "      </button>\n",
              "      \n",
              "  <style>\n",
              "    .colab-df-container {\n",
              "      display:flex;\n",
              "      flex-wrap:wrap;\n",
              "      gap: 12px;\n",
              "    }\n",
              "\n",
              "    .colab-df-convert {\n",
              "      background-color: #E8F0FE;\n",
              "      border: none;\n",
              "      border-radius: 50%;\n",
              "      cursor: pointer;\n",
              "      display: none;\n",
              "      fill: #1967D2;\n",
              "      height: 32px;\n",
              "      padding: 0 0 0 0;\n",
              "      width: 32px;\n",
              "    }\n",
              "\n",
              "    .colab-df-convert:hover {\n",
              "      background-color: #E2EBFA;\n",
              "      box-shadow: 0px 1px 2px rgba(60, 64, 67, 0.3), 0px 1px 3px 1px rgba(60, 64, 67, 0.15);\n",
              "      fill: #174EA6;\n",
              "    }\n",
              "\n",
              "    [theme=dark] .colab-df-convert {\n",
              "      background-color: #3B4455;\n",
              "      fill: #D2E3FC;\n",
              "    }\n",
              "\n",
              "    [theme=dark] .colab-df-convert:hover {\n",
              "      background-color: #434B5C;\n",
              "      box-shadow: 0px 1px 3px 1px rgba(0, 0, 0, 0.15);\n",
              "      filter: drop-shadow(0px 1px 2px rgba(0, 0, 0, 0.3));\n",
              "      fill: #FFFFFF;\n",
              "    }\n",
              "  </style>\n",
              "\n",
              "      <script>\n",
              "        const buttonEl =\n",
              "          document.querySelector('#df-e26b6c19-aeaf-47e5-8b4e-2ab37385479b button.colab-df-convert');\n",
              "        buttonEl.style.display =\n",
              "          google.colab.kernel.accessAllowed ? 'block' : 'none';\n",
              "\n",
              "        async function convertToInteractive(key) {\n",
              "          const element = document.querySelector('#df-e26b6c19-aeaf-47e5-8b4e-2ab37385479b');\n",
              "          const dataTable =\n",
              "            await google.colab.kernel.invokeFunction('convertToInteractive',\n",
              "                                                     [key], {});\n",
              "          if (!dataTable) return;\n",
              "\n",
              "          const docLinkHtml = 'Like what you see? Visit the ' +\n",
              "            '<a target=\"_blank\" href=https://colab.research.google.com/notebooks/data_table.ipynb>data table notebook</a>'\n",
              "            + ' to learn more about interactive tables.';\n",
              "          element.innerHTML = '';\n",
              "          dataTable['output_type'] = 'display_data';\n",
              "          await google.colab.output.renderOutput(dataTable, element);\n",
              "          const docLink = document.createElement('div');\n",
              "          docLink.innerHTML = docLinkHtml;\n",
              "          element.appendChild(docLink);\n",
              "        }\n",
              "      </script>\n",
              "    </div>\n",
              "  </div>\n",
              "  "
            ],
            "text/plain": [
              "          date   total\n",
              "0   2021-11-01  447401\n",
              "1   2021-10-01  481306\n",
              "2   2021-09-01  472474\n",
              "3   2021-08-01  476677\n",
              "4   2021-07-01  507306\n",
              "..         ...     ...\n",
              "127 2011-04-01  610989\n",
              "128 2011-03-01  625368\n",
              "129 2011-02-01  556370\n",
              "130 2011-01-01  561265\n",
              "131 2010-12-01  491730\n",
              "\n",
              "[132 rows x 2 columns]"
            ]
          },
          "metadata": {},
          "execution_count": 55
        }
      ]
    },
    {
      "cell_type": "code",
      "source": [
        "crime.to_csv(\"crimeData.csv\")"
      ],
      "metadata": {
        "id": "zdmgecCuq7WT"
      },
      "execution_count": 56,
      "outputs": []
    },
    {
      "cell_type": "code",
      "source": [
        "from google.colab import files"
      ],
      "metadata": {
        "id": "z3FOxg9irfm8"
      },
      "execution_count": 57,
      "outputs": []
    },
    {
      "cell_type": "code",
      "source": [
        "files.download(\"crimeData.csv\")"
      ],
      "metadata": {
        "colab": {
          "base_uri": "https://localhost:8080/",
          "height": 17
        },
        "id": "iYxf8gYtrjC0",
        "outputId": "9930e5b8-4f5b-47c0-f503-9be8e2c99718"
      },
      "execution_count": 58,
      "outputs": [
        {
          "output_type": "display_data",
          "data": {
            "application/javascript": [
              "\n",
              "    async function download(id, filename, size) {\n",
              "      if (!google.colab.kernel.accessAllowed) {\n",
              "        return;\n",
              "      }\n",
              "      const div = document.createElement('div');\n",
              "      const label = document.createElement('label');\n",
              "      label.textContent = `Downloading \"${filename}\": `;\n",
              "      div.appendChild(label);\n",
              "      const progress = document.createElement('progress');\n",
              "      progress.max = size;\n",
              "      div.appendChild(progress);\n",
              "      document.body.appendChild(div);\n",
              "\n",
              "      const buffers = [];\n",
              "      let downloaded = 0;\n",
              "\n",
              "      const channel = await google.colab.kernel.comms.open(id);\n",
              "      // Send a message to notify the kernel that we're ready.\n",
              "      channel.send({})\n",
              "\n",
              "      for await (const message of channel.messages) {\n",
              "        // Send a message to notify the kernel that we're ready.\n",
              "        channel.send({})\n",
              "        if (message.buffers) {\n",
              "          for (const buffer of message.buffers) {\n",
              "            buffers.push(buffer);\n",
              "            downloaded += buffer.byteLength;\n",
              "            progress.value = downloaded;\n",
              "          }\n",
              "        }\n",
              "      }\n",
              "      const blob = new Blob(buffers, {type: 'application/binary'});\n",
              "      const a = document.createElement('a');\n",
              "      a.href = window.URL.createObjectURL(blob);\n",
              "      a.download = filename;\n",
              "      div.appendChild(a);\n",
              "      a.click();\n",
              "      div.remove();\n",
              "    }\n",
              "  "
            ],
            "text/plain": [
              "<IPython.core.display.Javascript object>"
            ]
          },
          "metadata": {}
        },
        {
          "output_type": "display_data",
          "data": {
            "application/javascript": [
              "download(\"download_1a1efa68-4586-4217-9e6a-8360ecf63f94\", \"crimeData.csv\", 2806)"
            ],
            "text/plain": [
              "<IPython.core.display.Javascript object>"
            ]
          },
          "metadata": {}
        }
      ]
    },
    {
      "cell_type": "code",
      "source": [
        ""
      ],
      "metadata": {
        "id": "igbJ3qq_rlnP"
      },
      "execution_count": null,
      "outputs": []
    }
  ]
}